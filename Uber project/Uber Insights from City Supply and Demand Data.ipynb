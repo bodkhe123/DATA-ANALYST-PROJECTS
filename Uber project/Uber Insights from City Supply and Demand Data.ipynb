{
 "cells": [
  {
   "metadata": {},
   "cell_type": "code",
   "outputs": [],
   "execution_count": null,
   "source": "",
   "id": "88c1154b2c82b52d"
  },
  {
   "cell_type": "markdown",
   "id": "d8fc1491",
   "metadata": {},
   "source": [
    "# Uber Supply and Demand Case Study\n",
    "\n",
    "### Project Description:\n",
    "\n",
    "This project appeared in the Uber interviews. It provides with a dataset and eleven questions we must answer using EDA. Some of the tasks we’ll perform are:\n",
    "\n",
    "* Forward filling empty data\n",
    "* Data aggregation\n",
    "* List item\n",
    "* Create timestamps\n",
    "* Calculate rolling sums\n",
    "* Parse time interval\n",
    "* Calculate the percentage\n",
    "* Calculate the percentage\n",
    "* Visualize data\n",
    "* Find minimums and maximums"
   ]
  },
  {
   "cell_type": "markdown",
   "id": "8d033bf3",
   "metadata": {},
   "source": [
    "###  Dataset : uber dataset.csv\n",
    "\n",
    "DailyUber provides the 2016 data. By using this data find out the demand and supply Analysis gap of the cab. \n",
    "The main objective of this project is to analyse the data on Uber Request data. Through the analysis of data,\n",
    "\n",
    "### key Columns Explained:\n",
    "\n",
    "Date: The date of the record (format: YYYY-MM-DD).\n",
    "\n",
    "Time (Local): The hour of the day in local time (0-23).\n",
    "\n",
    "Eyeballs: Number of people who opened the Uber app during that hour.\n",
    "\n",
    "Zeroes: Number of people who saw zero cars available.\n",
    "\n",
    "Completed Trips: Number of trips completed successfully.\n",
    "\n",
    "Requests: Number of ride requests made.\n",
    "\n",
    "Unique Drivers: Number of drivers logged in during that hour."
   ]
  },
  {
   "cell_type": "markdown",
   "id": "d168143d",
   "metadata": {},
   "source": [
    "### What are the insights we find?\n",
    "\n",
    "1.Which date had the most completed trips during the two weeks?\n",
    "\n",
    "2.What was the highest number of completed trips within a 24-hour period?\n",
    "\n",
    "3.Which hour of the day had the most requests during the two-week period?\n",
    "\n",
    "4.What percentages of all zeroes during the two week period occurred on weekends (Friday at 5 pm to Sunday at 3 am)?\n",
    "\n",
    "5.What is the weighted average ratio of completed trips per driver during the two week period?\n",
    "\n",
    "6.In drafting a driver schedule in terms of 8 hour shifts, when are the busiest 8 consecutive hours over the two week period in terms of unique requests? A new shift starts every 8 hours. Assume that a driver will work the same shift each day.\n",
    "\n",
    "7.True or False: Driver supply always increases when demand increases during the two week period.\n",
    "\n",
    "8.In which 72 hour period is the ratio of Zeroes to Eyeballs the highest?\n",
    "\n",
    "9.If you could add 5 drivers to any single hour of every day during the two week period, which hour should you add them to?\n",
    "\n",
    "10.True or False: There is exactly two weeks of data in this analysis\n",
    "\n",
    "11.Looking at the data from all two weeks, which time might make the most sense to consider a true \"end day\" instead of midnight? (i.e when are supply and demand at both their natural minimums)"
   ]
  },
  {
   "cell_type": "markdown",
   "id": "fbd8d97d",
   "metadata": {},
   "source": [
    "## Step 1: Load and Inspect the Data\n",
    "\n",
    "Let's start by loading the dataset and inspecting its structure."
   ]
  },
  {
   "cell_type": "code",
   "execution_count": 1,
   "id": "554e2443",
   "metadata": {},
   "outputs": [],
   "source": [
    "import pandas as pd\n",
    "import numpy as np\n",
    "import seaborn as sns\n",
    "import matplotlib.pyplot as plt"
   ]
  },
  {
   "cell_type": "code",
   "execution_count": 2,
   "id": "8608e79c",
   "metadata": {},
   "outputs": [
    {
     "name": "stdout",
     "output_type": "stream",
     "text": [
      "        Date  Time (Local)  Eyeballs   Zeroes   Completed Trips   Requests   \\\n",
      "0  10-Sep-12             7          5        0                 2          2   \n",
      "1  10-Sep-12             8          6        0                 2          2   \n",
      "2  10-Sep-12             9          8        3                 0          0   \n",
      "3  10-Sep-12            10          9        2                 0          1   \n",
      "4  10-Sep-12            11         11        1                 4          4   \n",
      "\n",
      "   Unique Drivers  \n",
      "0               9  \n",
      "1              14  \n",
      "2              14  \n",
      "3              14  \n",
      "4              11  \n"
     ]
    }
   ],
   "source": [
    "# Load the dataset\n",
    "uber = pd.read_csv(r'C:\\Users\\purva\\Downloads\\uber dataset.csv')\n",
    "# Display the first few rows\n",
    "print(uber.head())"
   ]
  },
  {
   "cell_type": "code",
   "execution_count": 3,
   "id": "d5c2243a",
   "metadata": {},
   "outputs": [
    {
     "name": "stdout",
     "output_type": "stream",
     "text": [
      "<class 'pandas.core.frame.DataFrame'>\n",
      "RangeIndex: 336 entries, 0 to 335\n",
      "Data columns (total 7 columns):\n",
      " #   Column            Non-Null Count  Dtype \n",
      "---  ------            --------------  ----- \n",
      " 0   Date              336 non-null    object\n",
      " 1   Time (Local)      336 non-null    int64 \n",
      " 2   Eyeballs          336 non-null    int64 \n",
      " 3   Zeroes            336 non-null    int64 \n",
      " 4   Completed Trips   336 non-null    int64 \n",
      " 5   Requests          336 non-null    int64 \n",
      " 6   Unique Drivers    336 non-null    int64 \n",
      "dtypes: int64(6), object(1)\n",
      "memory usage: 18.5+ KB\n",
      "None\n"
     ]
    }
   ],
   "source": [
    "# Check data types and missing values\n",
    "print(uber.info())"
   ]
  },
  {
   "cell_type": "code",
   "execution_count": 4,
   "id": "e09a62f3",
   "metadata": {},
   "outputs": [
    {
     "data": {
      "text/html": [
       "<div>\n",
       "<style scoped>\n",
       "    .dataframe tbody tr th:only-of-type {\n",
       "        vertical-align: middle;\n",
       "    }\n",
       "\n",
       "    .dataframe tbody tr th {\n",
       "        vertical-align: top;\n",
       "    }\n",
       "\n",
       "    .dataframe thead th {\n",
       "        text-align: right;\n",
       "    }\n",
       "</style>\n",
       "<table border=\"1\" class=\"dataframe\">\n",
       "  <thead>\n",
       "    <tr style=\"text-align: right;\">\n",
       "      <th></th>\n",
       "      <th>Time (Local)</th>\n",
       "      <th>Eyeballs</th>\n",
       "      <th>Zeroes</th>\n",
       "      <th>Completed Trips</th>\n",
       "      <th>Requests</th>\n",
       "      <th>Unique Drivers</th>\n",
       "    </tr>\n",
       "  </thead>\n",
       "  <tbody>\n",
       "    <tr>\n",
       "      <th>count</th>\n",
       "      <td>336.00000</td>\n",
       "      <td>336.000000</td>\n",
       "      <td>336.000000</td>\n",
       "      <td>336.000000</td>\n",
       "      <td>336.000000</td>\n",
       "      <td>336.000000</td>\n",
       "    </tr>\n",
       "    <tr>\n",
       "      <th>mean</th>\n",
       "      <td>11.50000</td>\n",
       "      <td>19.901786</td>\n",
       "      <td>4.252976</td>\n",
       "      <td>4.062500</td>\n",
       "      <td>5.529762</td>\n",
       "      <td>7.895833</td>\n",
       "    </tr>\n",
       "    <tr>\n",
       "      <th>std</th>\n",
       "      <td>6.93251</td>\n",
       "      <td>16.902862</td>\n",
       "      <td>5.795391</td>\n",
       "      <td>5.672581</td>\n",
       "      <td>7.399416</td>\n",
       "      <td>5.884296</td>\n",
       "    </tr>\n",
       "    <tr>\n",
       "      <th>min</th>\n",
       "      <td>0.00000</td>\n",
       "      <td>0.000000</td>\n",
       "      <td>0.000000</td>\n",
       "      <td>0.000000</td>\n",
       "      <td>0.000000</td>\n",
       "      <td>0.000000</td>\n",
       "    </tr>\n",
       "    <tr>\n",
       "      <th>25%</th>\n",
       "      <td>5.75000</td>\n",
       "      <td>9.000000</td>\n",
       "      <td>1.000000</td>\n",
       "      <td>0.000000</td>\n",
       "      <td>1.000000</td>\n",
       "      <td>3.000000</td>\n",
       "    </tr>\n",
       "    <tr>\n",
       "      <th>50%</th>\n",
       "      <td>11.50000</td>\n",
       "      <td>17.000000</td>\n",
       "      <td>3.000000</td>\n",
       "      <td>2.000000</td>\n",
       "      <td>3.000000</td>\n",
       "      <td>8.000000</td>\n",
       "    </tr>\n",
       "    <tr>\n",
       "      <th>75%</th>\n",
       "      <td>17.25000</td>\n",
       "      <td>25.000000</td>\n",
       "      <td>5.000000</td>\n",
       "      <td>5.000000</td>\n",
       "      <td>6.250000</td>\n",
       "      <td>11.000000</td>\n",
       "    </tr>\n",
       "    <tr>\n",
       "      <th>max</th>\n",
       "      <td>23.00000</td>\n",
       "      <td>99.000000</td>\n",
       "      <td>59.000000</td>\n",
       "      <td>36.000000</td>\n",
       "      <td>46.000000</td>\n",
       "      <td>30.000000</td>\n",
       "    </tr>\n",
       "  </tbody>\n",
       "</table>\n",
       "</div>"
      ],
      "text/plain": [
       "       Time (Local)   Eyeballs      Zeroes   Completed Trips    Requests   \\\n",
       "count     336.00000  336.000000  336.000000        336.000000  336.000000   \n",
       "mean       11.50000   19.901786    4.252976          4.062500    5.529762   \n",
       "std         6.93251   16.902862    5.795391          5.672581    7.399416   \n",
       "min         0.00000    0.000000    0.000000          0.000000    0.000000   \n",
       "25%         5.75000    9.000000    1.000000          0.000000    1.000000   \n",
       "50%        11.50000   17.000000    3.000000          2.000000    3.000000   \n",
       "75%        17.25000   25.000000    5.000000          5.000000    6.250000   \n",
       "max        23.00000   99.000000   59.000000         36.000000   46.000000   \n",
       "\n",
       "       Unique Drivers  \n",
       "count      336.000000  \n",
       "mean         7.895833  \n",
       "std          5.884296  \n",
       "min          0.000000  \n",
       "25%          3.000000  \n",
       "50%          8.000000  \n",
       "75%         11.000000  \n",
       "max         30.000000  "
      ]
     },
     "execution_count": 4,
     "metadata": {},
     "output_type": "execute_result"
    }
   ],
   "source": [
    "uber.describe()"
   ]
  },
  {
   "cell_type": "markdown",
   "id": "62bb194c",
   "metadata": {},
   "source": [
    "## Step 2: Preprocessing\n",
    "* Convert the Date column to datetime.\n",
    "* Check for any missing or inconsistent data.\n",
    "* Create any additional columns needed (e.g., datetime combining date and hour)."
   ]
  },
  {
   "cell_type": "code",
   "execution_count": 5,
   "id": "4620168b",
   "metadata": {},
   "outputs": [
    {
     "name": "stdout",
     "output_type": "stream",
     "text": [
      "Date                0\n",
      "Time (Local)        0\n",
      "Eyeballs            0\n",
      "Zeroes              0\n",
      "Completed Trips     0\n",
      "Requests            0\n",
      "Unique Drivers      0\n",
      "DateTime            0\n",
      "dtype: int64\n"
     ]
    }
   ],
   "source": [
    "# Convert Date to datetime\n",
    "uber['Date'] = pd.to_datetime(uber['Date'])\n",
    "# Create a datetime column combining Date and Time (Local)\n",
    "uber['DateTime'] = uber.apply(lambda row: row['Date'] + pd.Timedelta(hours=row['Time (Local)']), axis=1)\n",
    "# Check for missing values\n",
    "print(uber.isnull().sum())"
   ]
  },
  {
   "cell_type": "code",
   "execution_count": 6,
   "id": "cde3f480",
   "metadata": {},
   "outputs": [
    {
     "data": {
      "text/plain": [
       "Index(['Date', 'Time (Local)', 'Eyeballs', 'Zeroes', 'Completed Trips',\n",
       "       'Requests', 'Unique Drivers', 'DateTime'],\n",
       "      dtype='object')"
      ]
     },
     "execution_count": 6,
     "metadata": {},
     "output_type": "execute_result"
    }
   ],
   "source": [
    "uber.columns = uber.columns.str.strip()\n",
    "uber.columns"
   ]
  },
  {
   "cell_type": "markdown",
   "id": "50c094af",
   "metadata": {},
   "source": [
    "### App Openings (Eyeballs) - Customers opening the app looking for drivers"
   ]
  },
  {
   "cell_type": "code",
   "execution_count": 7,
   "id": "fe90cb56",
   "metadata": {},
   "outputs": [
    {
     "data": {
      "text/plain": [
       "Date\n",
       "2012-09-10    189\n",
       "2012-09-11    314\n",
       "2012-09-12    423\n",
       "2012-09-13    325\n",
       "2012-09-14    549\n",
       "2012-09-15    788\n",
       "2012-09-16    426\n",
       "2012-09-17    377\n",
       "2012-09-18    342\n",
       "2012-09-19    319\n",
       "2012-09-20    375\n",
       "2012-09-21    740\n",
       "2012-09-22    960\n",
       "2012-09-23    526\n",
       "2012-09-24     34\n",
       "Name: Eyeballs, dtype: int64"
      ]
     },
     "execution_count": 7,
     "metadata": {},
     "output_type": "execute_result"
    }
   ],
   "source": [
    "uber_eyeballs = uber.groupby('Date')['Eyeballs'].sum()\n",
    "uber_eyeballs"
   ]
  },
  {
   "cell_type": "markdown",
   "id": "3c9f22a6",
   "metadata": {},
   "source": [
    "### Zeros - No: of customers who open the app but find no cars in the area"
   ]
  },
  {
   "cell_type": "code",
   "execution_count": 8,
   "id": "f1b1f6a5",
   "metadata": {},
   "outputs": [
    {
     "name": "stdout",
     "output_type": "stream",
     "text": [
      "Unavailable car\n"
     ]
    },
    {
     "data": {
      "text/plain": [
       "Date\n",
       "2012-09-10     26\n",
       "2012-09-11     64\n",
       "2012-09-12     55\n",
       "2012-09-13     80\n",
       "2012-09-14     92\n",
       "2012-09-15    258\n",
       "2012-09-16     93\n",
       "2012-09-17     76\n",
       "2012-09-18     94\n",
       "2012-09-19     46\n",
       "2012-09-20     68\n",
       "2012-09-21    124\n",
       "2012-09-22    219\n",
       "2012-09-23    115\n",
       "2012-09-24     19\n",
       "Name: Zeroes, dtype: int64"
      ]
     },
     "execution_count": 8,
     "metadata": {},
     "output_type": "execute_result"
    }
   ],
   "source": [
    "no_car = uber.groupby('Date')['Zeroes'].sum()\n",
    "print('Unavailable car')\n",
    "no_car"
   ]
  },
  {
   "cell_type": "markdown",
   "id": "3fd161f9",
   "metadata": {},
   "source": [
    "## Step 3: Answer Questions"
   ]
  },
  {
   "cell_type": "markdown",
   "id": "ed9b2677",
   "metadata": {},
   "source": [
    "### Question 1: Which date had the most completed trips during the two week period?"
   ]
  },
  {
   "cell_type": "markdown",
   "id": "a9729d56",
   "metadata": {},
   "source": [
    "To answer this question, we need to group the data by date and calculate the sum of completed trips for each date."
   ]
  },
  {
   "cell_type": "code",
   "execution_count": 9,
   "id": "17554eba",
   "metadata": {},
   "outputs": [
    {
     "name": "stdout",
     "output_type": "stream",
     "text": [
      "2012-09-22 with 248 trips has the most number of trips in the two week period\n"
     ]
    }
   ],
   "source": [
    "trips_per_day = uber.groupby('Date')['Completed Trips'].sum()\n",
    "\n",
    "date_max_trips = trips_per_day.idxmax()\n",
    "max_trips = trips_per_day.max()\n",
    "\n",
    "print(f'{date_max_trips.date()} with {max_trips} trips has the most number of trips in the two week period')"
   ]
  },
  {
   "cell_type": "markdown",
   "id": "13542f10",
   "metadata": {},
   "source": [
    "### Question 2: What was the highest number of completed trips within a 24-hour period?"
   ]
  },
  {
   "cell_type": "markdown",
   "id": "b313f29b",
   "metadata": {},
   "source": [
    "To answer this question, we need to calculate the rolling sum of completed trips for each hour. Since data is hourly, sum over each date."
   ]
  },
  {
   "cell_type": "code",
   "execution_count": 10,
   "id": "97683666",
   "metadata": {},
   "outputs": [
    {
     "name": "stdout",
     "output_type": "stream",
     "text": [
      "The highest number of completed trips within a 24-hour period is 248.0 trips.\n"
     ]
    }
   ],
   "source": [
    "uber_date = uber.sort_values(by='Date')\n",
    "rolling_completed = uber_date.rolling('24H', on='Date')['Completed Trips'].sum()\n",
    "max_rolling_trips = rolling_completed.max()\n",
    "\n",
    "print(f'The highest number of completed trips within a 24-hour period is {max_rolling_trips} trips.')"
   ]
  },
  {
   "cell_type": "markdown",
   "id": "0572e236",
   "metadata": {},
   "source": [
    "### Question 3: Which hour of the day had the most requests during the two-week period?"
   ]
  },
  {
   "cell_type": "markdown",
   "id": "385ef423",
   "metadata": {},
   "source": [
    "To answer this question, we need to group the data by hour and calculate the sum of requests for each hour.\n",
    "* Sum requests by hour (0-23) across all days."
   ]
  },
  {
   "cell_type": "code",
   "execution_count": 11,
   "id": "db5634c8",
   "metadata": {},
   "outputs": [
    {
     "name": "stdout",
     "output_type": "stream",
     "text": [
      "Most requests during the two weeks peroid is at hour=23 with 184  requests.\n"
     ]
    }
   ],
   "source": [
    "Hours =uber.groupby('Time (Local)')['Requests'].sum()\n",
    "\n",
    "max_request_hour =Hours.idxmax()\n",
    "c=Hours.max()\n",
    "print(f'Most requests during the two weeks peroid is at hour={max_request_hour} with {c}  requests.')"
   ]
  },
  {
   "cell_type": "markdown",
   "id": "8efae952",
   "metadata": {},
   "source": [
    "### Question 4: What percentages of all zeroes during the two week period occurred on weekends (Friday at 5 pm to Sunday at 3 am)?"
   ]
  },
  {
   "cell_type": "markdown",
   "id": "9f900b38",
   "metadata": {},
   "source": [
    "To answer this question, we need to filter the data for weekend hours and \n",
    "* Define weekend period: Friday 17:00 to Sunday 03:00.\n",
    "* Calculate total zeroes and zeroes in weekend period.\n",
    "* calculate the percentage of zeroes."
   ]
  },
  {
   "cell_type": "code",
   "execution_count": 12,
   "id": "a3ab0d81",
   "metadata": {},
   "outputs": [
    {
     "data": {
      "text/html": [
       "<div>\n",
       "<style scoped>\n",
       "    .dataframe tbody tr th:only-of-type {\n",
       "        vertical-align: middle;\n",
       "    }\n",
       "\n",
       "    .dataframe tbody tr th {\n",
       "        vertical-align: top;\n",
       "    }\n",
       "\n",
       "    .dataframe thead th {\n",
       "        text-align: right;\n",
       "    }\n",
       "</style>\n",
       "<table border=\"1\" class=\"dataframe\">\n",
       "  <thead>\n",
       "    <tr style=\"text-align: right;\">\n",
       "      <th></th>\n",
       "      <th>Date</th>\n",
       "      <th>Time (Local)</th>\n",
       "      <th>Eyeballs</th>\n",
       "      <th>Zeroes</th>\n",
       "      <th>Completed Trips</th>\n",
       "      <th>Requests</th>\n",
       "      <th>Unique Drivers</th>\n",
       "      <th>DateTime</th>\n",
       "    </tr>\n",
       "  </thead>\n",
       "  <tbody>\n",
       "    <tr>\n",
       "      <th>106</th>\n",
       "      <td>2012-09-14</td>\n",
       "      <td>17</td>\n",
       "      <td>34</td>\n",
       "      <td>4</td>\n",
       "      <td>3</td>\n",
       "      <td>5</td>\n",
       "      <td>13</td>\n",
       "      <td>2012-09-14 17:00:00</td>\n",
       "    </tr>\n",
       "    <tr>\n",
       "      <th>107</th>\n",
       "      <td>2012-09-14</td>\n",
       "      <td>18</td>\n",
       "      <td>40</td>\n",
       "      <td>2</td>\n",
       "      <td>8</td>\n",
       "      <td>9</td>\n",
       "      <td>14</td>\n",
       "      <td>2012-09-14 18:00:00</td>\n",
       "    </tr>\n",
       "    <tr>\n",
       "      <th>108</th>\n",
       "      <td>2012-09-14</td>\n",
       "      <td>19</td>\n",
       "      <td>46</td>\n",
       "      <td>6</td>\n",
       "      <td>9</td>\n",
       "      <td>10</td>\n",
       "      <td>15</td>\n",
       "      <td>2012-09-14 19:00:00</td>\n",
       "    </tr>\n",
       "    <tr>\n",
       "      <th>109</th>\n",
       "      <td>2012-09-14</td>\n",
       "      <td>20</td>\n",
       "      <td>38</td>\n",
       "      <td>4</td>\n",
       "      <td>8</td>\n",
       "      <td>9</td>\n",
       "      <td>14</td>\n",
       "      <td>2012-09-14 20:00:00</td>\n",
       "    </tr>\n",
       "    <tr>\n",
       "      <th>110</th>\n",
       "      <td>2012-09-14</td>\n",
       "      <td>21</td>\n",
       "      <td>49</td>\n",
       "      <td>6</td>\n",
       "      <td>8</td>\n",
       "      <td>9</td>\n",
       "      <td>17</td>\n",
       "      <td>2012-09-14 21:00:00</td>\n",
       "    </tr>\n",
       "    <tr>\n",
       "      <th>...</th>\n",
       "      <td>...</td>\n",
       "      <td>...</td>\n",
       "      <td>...</td>\n",
       "      <td>...</td>\n",
       "      <td>...</td>\n",
       "      <td>...</td>\n",
       "      <td>...</td>\n",
       "      <td>...</td>\n",
       "    </tr>\n",
       "    <tr>\n",
       "      <th>303</th>\n",
       "      <td>2012-09-22</td>\n",
       "      <td>22</td>\n",
       "      <td>77</td>\n",
       "      <td>11</td>\n",
       "      <td>25</td>\n",
       "      <td>33</td>\n",
       "      <td>19</td>\n",
       "      <td>2012-09-22 22:00:00</td>\n",
       "    </tr>\n",
       "    <tr>\n",
       "      <th>304</th>\n",
       "      <td>2012-09-22</td>\n",
       "      <td>23</td>\n",
       "      <td>99</td>\n",
       "      <td>59</td>\n",
       "      <td>25</td>\n",
       "      <td>44</td>\n",
       "      <td>17</td>\n",
       "      <td>2012-09-22 23:00:00</td>\n",
       "    </tr>\n",
       "    <tr>\n",
       "      <th>305</th>\n",
       "      <td>2012-09-23</td>\n",
       "      <td>0</td>\n",
       "      <td>62</td>\n",
       "      <td>25</td>\n",
       "      <td>23</td>\n",
       "      <td>32</td>\n",
       "      <td>18</td>\n",
       "      <td>2012-09-23 00:00:00</td>\n",
       "    </tr>\n",
       "    <tr>\n",
       "      <th>306</th>\n",
       "      <td>2012-09-23</td>\n",
       "      <td>1</td>\n",
       "      <td>38</td>\n",
       "      <td>1</td>\n",
       "      <td>15</td>\n",
       "      <td>23</td>\n",
       "      <td>18</td>\n",
       "      <td>2012-09-23 01:00:00</td>\n",
       "    </tr>\n",
       "    <tr>\n",
       "      <th>307</th>\n",
       "      <td>2012-09-23</td>\n",
       "      <td>2</td>\n",
       "      <td>34</td>\n",
       "      <td>4</td>\n",
       "      <td>13</td>\n",
       "      <td>18</td>\n",
       "      <td>18</td>\n",
       "      <td>2012-09-23 02:00:00</td>\n",
       "    </tr>\n",
       "  </tbody>\n",
       "</table>\n",
       "<p>68 rows × 8 columns</p>\n",
       "</div>"
      ],
      "text/plain": [
       "          Date  Time (Local)  Eyeballs  Zeroes  Completed Trips  Requests  \\\n",
       "106 2012-09-14            17        34       4                3         5   \n",
       "107 2012-09-14            18        40       2                8         9   \n",
       "108 2012-09-14            19        46       6                9        10   \n",
       "109 2012-09-14            20        38       4                8         9   \n",
       "110 2012-09-14            21        49       6                8         9   \n",
       "..         ...           ...       ...     ...              ...       ...   \n",
       "303 2012-09-22            22        77      11               25        33   \n",
       "304 2012-09-22            23        99      59               25        44   \n",
       "305 2012-09-23             0        62      25               23        32   \n",
       "306 2012-09-23             1        38       1               15        23   \n",
       "307 2012-09-23             2        34       4               13        18   \n",
       "\n",
       "     Unique Drivers            DateTime  \n",
       "106              13 2012-09-14 17:00:00  \n",
       "107              14 2012-09-14 18:00:00  \n",
       "108              15 2012-09-14 19:00:00  \n",
       "109              14 2012-09-14 20:00:00  \n",
       "110              17 2012-09-14 21:00:00  \n",
       "..              ...                 ...  \n",
       "303              19 2012-09-22 22:00:00  \n",
       "304              17 2012-09-22 23:00:00  \n",
       "305              18 2012-09-23 00:00:00  \n",
       "306              18 2012-09-23 01:00:00  \n",
       "307              18 2012-09-23 02:00:00  \n",
       "\n",
       "[68 rows x 8 columns]"
      ]
     },
     "execution_count": 12,
     "metadata": {},
     "output_type": "execute_result"
    }
   ],
   "source": [
    "weekend_data = uber[((uber['Date'].dt.dayofweek == 4) & (uber['Time (Local)'] >= 17)) |\n",
    "                   (uber['Date'].dt.dayofweek == 5) |\n",
    "                   ((uber['Date'].dt.dayofweek == 6) & (uber['Time (Local)'] < 3))]\n",
    "weekend_data"
   ]
  },
  {
   "cell_type": "code",
   "execution_count": 13,
   "id": "3622d382",
   "metadata": {},
   "outputs": [
    {
     "name": "stdout",
     "output_type": "stream",
     "text": [
      "The percentage of uber users to were unable to find a car in their area during weekends was 44.86%\n"
     ]
    }
   ],
   "source": [
    "# count the total zeroes during two-week duration\n",
    "total_zeroes = uber['Zeroes'].sum()\n",
    "\n",
    "# count the weekend zeroes (friday 5 pm to sunday 3 am)\n",
    "weekend_zeroes = weekend_data['Zeroes'].sum()\n",
    "\n",
    "# calculate % of zeroes on weekend\n",
    "percentage_weekend_zeroes = (weekend_zeroes/total_zeroes)*100\n",
    "print(f'The percentage of uber users to were unable to find a car in their area during weekends was {percentage_weekend_zeroes:.2f}%')"
   ]
  },
  {
   "cell_type": "markdown",
   "id": "5ab316be",
   "metadata": {},
   "source": [
    "### Question 5: What is the weighted average ratio of completed trips per driver during the two week period?\n"
   ]
  },
  {
   "cell_type": "markdown",
   "id": "9b5746a6",
   "metadata": {},
   "source": [
    "To answer this question, we need to calculate the weighted average ratio of completed trips per driver.\n",
    "* Ratio per hour = Completed Trips / Unique Drivers\n",
    "* Weighted average = sum of (ratio * completed trips) / total completed trips"
   ]
  },
  {
   "cell_type": "code",
   "execution_count": 14,
   "id": "92a5d349",
   "metadata": {},
   "outputs": [
    {
     "name": "stdout",
     "output_type": "stream",
     "text": [
      "The weighted average ratio of completed trips per driver during the 2 weeks period is 0.63\n"
     ]
    }
   ],
   "source": [
    "hourly_trips = uber.groupby('Time (Local)')['Completed Trips'].sum().reset_index()\n",
    "\n",
    "hourly_unique_drivers = uber.groupby('Time (Local)')['Unique Drivers'].sum().reset_index()\n",
    "\n",
    "hourly_ratio_trips_drivers = hourly_trips['Completed Trips']/hourly_unique_drivers['Unique Drivers']\n",
    "weighted_completed_trips = (hourly_ratio_trips_drivers * (uber.groupby('Time (Local)')['Completed Trips'].sum()))\n",
    "\n",
    "total_weighted_completed_trips = weighted_completed_trips.sum()\n",
    "\n",
    "total_completed_trips = uber['Completed Trips'].sum()\n",
    "\n",
    "weighted_avg_trips_driver = total_weighted_completed_trips/total_completed_trips\n",
    "print(f'The weighted average ratio of completed trips per driver during the 2 weeks period is {weighted_avg_trips_driver:.2f}')"
   ]
  },
  {
   "cell_type": "markdown",
   "id": "4694eb45",
   "metadata": {},
   "source": [
    "### Question 6: In drafting a driver schedule in terms of 8 hour shifts, when are the busiest 8 consecutive hours over the two week period in terms of unique requests? A new shift starts every 8 hours. Assume that a driver will work the same shift each day."
   ]
  },
  {
   "cell_type": "markdown",
   "id": "f2077bf3",
   "metadata": {},
   "source": [
    "To answer this question, we need to calculate the rolling sum of unique requests for each 8-hour shift\n",
    "* Shifts start every 8 hours: 0, 8, 16.\n",
    "* For each shift, sum unique requests over all days and hours in that shift.\n",
    "* Find the shift with the highest total unique requests"
   ]
  },
  {
   "cell_type": "code",
   "execution_count": 15,
   "id": "4758a7a0",
   "metadata": {},
   "outputs": [
    {
     "name": "stdout",
     "output_type": "stream",
     "text": [
      "The busiest 8-hour period in the two weeks period is 22:00:00 to 06:00:00 hours\n"
     ]
    }
   ],
   "source": [
    "# no: of unique requests each hour\n",
    "hourly_unique_requests = uber.groupby('Time (Local)')['Requests'].nunique()\n",
    "# window of 8 hours across the hours to find the 8 consecutive hours with the highest number of unique requests.\n",
    "busiest_8hours_start = hourly_unique_requests.rolling(window = 8).sum().idxmax()\n",
    "\n",
    "#convert start hours to time stamp\n",
    "busiest_8hours_start = pd.Timestamp(busiest_8hours_start*3600000000000) # convert hours to nano seconds\n",
    "busiest_8hours_end = busiest_8hours_start + pd.Timedelta(hours = 8)\n",
    "print(f'The busiest 8-hour period in the two weeks period is {busiest_8hours_start.time()} to {busiest_8hours_end.time()} hours')"
   ]
  },
  {
   "cell_type": "markdown",
   "id": "92f963c4",
   "metadata": {},
   "source": [
    "### Question 7: True or False: Driver supply always increases when demand increases during the two week period."
   ]
  },
  {
   "cell_type": "markdown",
   "id": "7aa682de",
   "metadata": {},
   "source": [
    "To answer this question, we need to visualize the data to confirm the relationship between driver supply and demand.\n",
    "* Demand can be approximated by Requests or Eyeballs.\n",
    "* Supply is Unique Drivers.\n",
    "* Check if supply always increases when demand increases hour to hour."
   ]
  },
  {
   "cell_type": "code",
   "execution_count": 16,
   "id": "79988bf5",
   "metadata": {},
   "outputs": [
    {
     "data": {
      "text/html": [
       "<div>\n",
       "<style scoped>\n",
       "    .dataframe tbody tr th:only-of-type {\n",
       "        vertical-align: middle;\n",
       "    }\n",
       "\n",
       "    .dataframe tbody tr th {\n",
       "        vertical-align: top;\n",
       "    }\n",
       "\n",
       "    .dataframe thead th {\n",
       "        text-align: right;\n",
       "    }\n",
       "</style>\n",
       "<table border=\"1\" class=\"dataframe\">\n",
       "  <thead>\n",
       "    <tr style=\"text-align: right;\">\n",
       "      <th></th>\n",
       "      <th>Date</th>\n",
       "      <th>Requests</th>\n",
       "      <th>Unique Drivers</th>\n",
       "    </tr>\n",
       "  </thead>\n",
       "  <tbody>\n",
       "    <tr>\n",
       "      <th>0</th>\n",
       "      <td>2012-09-10</td>\n",
       "      <td>34</td>\n",
       "      <td>138</td>\n",
       "    </tr>\n",
       "    <tr>\n",
       "      <th>1</th>\n",
       "      <td>2012-09-11</td>\n",
       "      <td>52</td>\n",
       "      <td>132</td>\n",
       "    </tr>\n",
       "    <tr>\n",
       "      <th>2</th>\n",
       "      <td>2012-09-12</td>\n",
       "      <td>114</td>\n",
       "      <td>201</td>\n",
       "    </tr>\n",
       "    <tr>\n",
       "      <th>3</th>\n",
       "      <td>2012-09-13</td>\n",
       "      <td>67</td>\n",
       "      <td>159</td>\n",
       "    </tr>\n",
       "    <tr>\n",
       "      <th>4</th>\n",
       "      <td>2012-09-14</td>\n",
       "      <td>137</td>\n",
       "      <td>211</td>\n",
       "    </tr>\n",
       "    <tr>\n",
       "      <th>5</th>\n",
       "      <td>2012-09-15</td>\n",
       "      <td>282</td>\n",
       "      <td>193</td>\n",
       "    </tr>\n",
       "    <tr>\n",
       "      <th>6</th>\n",
       "      <td>2012-09-16</td>\n",
       "      <td>118</td>\n",
       "      <td>150</td>\n",
       "    </tr>\n",
       "    <tr>\n",
       "      <th>7</th>\n",
       "      <td>2012-09-17</td>\n",
       "      <td>78</td>\n",
       "      <td>164</td>\n",
       "    </tr>\n",
       "    <tr>\n",
       "      <th>8</th>\n",
       "      <td>2012-09-18</td>\n",
       "      <td>81</td>\n",
       "      <td>134</td>\n",
       "    </tr>\n",
       "    <tr>\n",
       "      <th>9</th>\n",
       "      <td>2012-09-19</td>\n",
       "      <td>54</td>\n",
       "      <td>186</td>\n",
       "    </tr>\n",
       "    <tr>\n",
       "      <th>10</th>\n",
       "      <td>2012-09-20</td>\n",
       "      <td>95</td>\n",
       "      <td>179</td>\n",
       "    </tr>\n",
       "    <tr>\n",
       "      <th>11</th>\n",
       "      <td>2012-09-21</td>\n",
       "      <td>240</td>\n",
       "      <td>298</td>\n",
       "    </tr>\n",
       "    <tr>\n",
       "      <th>12</th>\n",
       "      <td>2012-09-22</td>\n",
       "      <td>344</td>\n",
       "      <td>292</td>\n",
       "    </tr>\n",
       "    <tr>\n",
       "      <th>13</th>\n",
       "      <td>2012-09-23</td>\n",
       "      <td>154</td>\n",
       "      <td>204</td>\n",
       "    </tr>\n",
       "    <tr>\n",
       "      <th>14</th>\n",
       "      <td>2012-09-24</td>\n",
       "      <td>8</td>\n",
       "      <td>12</td>\n",
       "    </tr>\n",
       "  </tbody>\n",
       "</table>\n",
       "</div>"
      ],
      "text/plain": [
       "         Date  Requests  Unique Drivers\n",
       "0  2012-09-10        34             138\n",
       "1  2012-09-11        52             132\n",
       "2  2012-09-12       114             201\n",
       "3  2012-09-13        67             159\n",
       "4  2012-09-14       137             211\n",
       "5  2012-09-15       282             193\n",
       "6  2012-09-16       118             150\n",
       "7  2012-09-17        78             164\n",
       "8  2012-09-18        81             134\n",
       "9  2012-09-19        54             186\n",
       "10 2012-09-20        95             179\n",
       "11 2012-09-21       240             298\n",
       "12 2012-09-22       344             292\n",
       "13 2012-09-23       154             204\n",
       "14 2012-09-24         8              12"
      ]
     },
     "execution_count": 16,
     "metadata": {},
     "output_type": "execute_result"
    }
   ],
   "source": [
    "# let's calculate trip demand and driver supply by grouping on date\n",
    "demand_supply = uber.groupby('Date').agg({'Requests':'sum', 'Unique Drivers':'sum'})\n",
    "demand_supply = demand_supply.reset_index()\n",
    "demand_supply"
   ]
  },
  {
   "cell_type": "code",
   "execution_count": 17,
   "id": "100d0c06",
   "metadata": {},
   "outputs": [
    {
     "name": "stdout",
     "output_type": "stream",
     "text": [
      "False\n",
      "The demand for uber requests does not guranatee an increase in the supply of drivers\n"
     ]
    }
   ],
   "source": [
    "# check if driver supply increases when demand increase\n",
    "# it checks if the difference between consective elements and if not greater than 0 return false\n",
    "increase_supply = (demand_supply['Unique Drivers'].diff() > 0) & (demand_supply['Requests'].diff() > 0)\n",
    "# all() function checks if the supply of drivers increase in each of demand of requests increase\n",
    "supply_increase_with_demand = increase_supply.all()\n",
    "print(supply_increase_with_demand)\n",
    "print('The demand for uber requests does not guranatee an increase in the supply of drivers')"
   ]
  },
  {
   "cell_type": "code",
   "execution_count": 18,
   "id": "02837aa0",
   "metadata": {},
   "outputs": [
    {
     "data": {
      "image/png": "[encoded data removed]",
      "text/plain": [
       "<Figure size 1500x800 with 1 Axes>"
      ]
     },
     "metadata": {},
     "output_type": "display_data"
    }
   ],
   "source": [
    "# plot the driver supply on each day\n",
    "plt.figure(figsize = (15,8))\n",
    "plt.plot(demand_supply['Date'], demand_supply['Unique Drivers'], label = 'Driver Supply')\n",
    "# plot the requests demand on each day\n",
    "plt.plot(demand_supply['Date'], demand_supply['Requests'], label = 'Requests Demand')\n",
    "plt.xlabel('Date')\n",
    "plt.ylabel('No: of Requests / Unique Drivers')\n",
    "plt.legend()\n",
    "plt.title('Driver Supply Vs Trip Demand')\n",
    "plt.show()"
   ]
  },
  {
   "cell_type": "markdown",
   "id": "701737d6",
   "metadata": {},
   "source": [
    "From the above line chart we can understand that driver supply was not always increase as the demand increase. There might be various reasons for this, some drivers might choose not to work during peak demand times, or there might be external factors that affect driver availability (such as traffic, weather conditions, or events in the city). To confirm this, we would need to analyze the data and identify instances where demand increased but driver supply did not."
   ]
  },
  {
   "cell_type": "markdown",
   "id": "c1ded6ad",
   "metadata": {},
   "source": [
    "### Question 8: In which 72 hour period is the ratio of Zeroes to Eyeballs the highest?"
   ]
  },
  {
   "cell_type": "markdown",
   "id": "29e191b8",
   "metadata": {},
   "source": [
    "To answer this question, we need to calculate the rolling ratio of zeroes to eyeballs for each 72-hour period.\n",
    "* Calculate rolling 72-hour windows.\n",
    "* For each window, sum Zeroes and Eyeballs, compute ratio.\n",
    "* Find window with highest ratio."
   ]
  },
  {
   "cell_type": "code",
   "execution_count": 19,
   "id": "a5156f8c",
   "metadata": {},
   "outputs": [
    {
     "name": "stdout",
     "output_type": "stream",
     "text": [
      "The 72-hour period with highest Zeroes to Eyeballs ratio is on 2012-09-23 with a ratio of 0.35\n"
     ]
    }
   ],
   "source": [
    "# add new column 72 hour period\n",
    "uber['72 Hour Period'] = pd.to_datetime(uber['Date']).dt.floor('72H')\n",
    "# group the data by 72 hour period and calculate the zeros to eyeballs ratio for each period\n",
    "period_ratios = uber.groupby('72 Hour Period').apply(lambda x: (x['Zeroes']/x['Eyeballs']).mean())\n",
    "\n",
    "# find period with highest ratio\n",
    "period_with_highest_ratio = period_ratios.idxmax()\n",
    "period_with_highest_ratio = period_with_highest_ratio.date()\n",
    "higest_ratio = period_ratios.max()\n",
    "\n",
    "print(f'The 72-hour period with highest Zeroes to Eyeballs ratio is on {period_with_highest_ratio} with a ratio of {higest_ratio:.2f}')"
   ]
  },
  {
   "cell_type": "markdown",
   "id": "395e00da",
   "metadata": {},
   "source": [
    "### Question 9: if you could add 5 drivers to any single hour of every day during the two week period, which hour should you add them to?"
   ]
  },
  {
   "cell_type": "markdown",
   "id": "a3aacf8f",
   "metadata": {},
   "source": [
    "To answer this question, we need to\n",
    "* Consider both rider eyeballs and driver supply.\n",
    "* Intuition: Add drivers where demand (eyeballs) is high but supply is low.\n",
    "* Calculate ratio Eyeballs / Unique Drivers per hour of day.\n",
    "* Choose hour with highest ratio."
   ]
  },
  {
   "cell_type": "code",
   "execution_count": 20,
   "id": "50b114ba",
   "metadata": {},
   "outputs": [
    {
     "name": "stdout",
     "output_type": "stream",
     "text": [
      "At 2 AM we can add 5 drivers every day during this two week period as the ratio for requests to unique drivers is high which is at 1.61\n"
     ]
    }
   ],
   "source": [
    "# each hour requested trips\n",
    "hourly_requests = uber.groupby('Time (Local)')['Requests'].sum().reset_index()\n",
    "# each hour unique drivers\n",
    "hourly_unique_drivers = uber.groupby('Time (Local)')['Unique Drivers'].sum().reset_index()\n",
    "# ratio of requests to unique drivers each  hour\n",
    "hourly_ratio_requests = hourly_requests['Requests']/hourly_unique_drivers['Unique Drivers']\n",
    "\n",
    "# find the hour with highest ratio of request to unique drivers\n",
    "highest_request_ratio = hourly_ratio_requests.max()\n",
    "highest_request_hour = hourly_ratio_requests.idxmax()\n",
    "\n",
    "print(f'At {highest_request_hour} AM we can add 5 drivers every day during this two week period as the ratio for requests to unique drivers is high which is at {highest_request_ratio:.2f}')"
   ]
  },
  {
   "cell_type": "markdown",
   "id": "f45270e1",
   "metadata": {},
   "source": [
    "### Question 10: True or False: There is exactly two weeks of data in this analysis"
   ]
  },
  {
   "cell_type": "markdown",
   "id": "f1fc46c7",
   "metadata": {},
   "source": [
    "To answer this question, we need to check the date range of the data."
   ]
  },
  {
   "cell_type": "code",
   "execution_count": 21,
   "id": "40b09a71",
   "metadata": {},
   "outputs": [
    {
     "name": "stdout",
     "output_type": "stream",
     "text": [
      "True, there is exactly two weeks of data in this analysis.\n"
     ]
    }
   ],
   "source": [
    "# calculate the difference between max and min dates\n",
    "date_diff = uber['Date'].max() - uber['Date'].min()\n",
    "\n",
    "# check if the difference equals 14\n",
    "is_two_weeks = date_diff.days == 14\n",
    "\n",
    "print(f'{is_two_weeks}, there is exactly two weeks of data in this analysis.')"
   ]
  },
  {
   "cell_type": "markdown",
   "id": "c7aab3f2",
   "metadata": {},
   "source": [
    "### Question 11: Looking at the data from all two weeks, which time might make the most sense to consider a true \"end day\" instead of midnight? (i.e when are supply and demand at both their natural minimums)"
   ]
  },
  {
   "cell_type": "markdown",
   "id": "637d42a4",
   "metadata": {},
   "source": [
    "To answer this question, we need to \n",
    "* Visualize supply and demand over 24 hours.\n",
    "* Find hour where both supply and demand are at natural minimums."
   ]
  },
  {
   "cell_type": "code",
   "execution_count": 22,
   "id": "1e7b3cdd",
   "metadata": {},
   "outputs": [
    {
     "name": "stdout",
     "output_type": "stream",
     "text": [
      "We can consider 4 AM as the true \"end day\" as the supply of drivers and demand are at natural minimum with a value of 0.79\n"
     ]
    }
   ],
   "source": [
    "# avg no: of completed trips and unique drivers for each hour of the day\n",
    "avg_hourly_completed_trips = uber.groupby('Time (Local)')['Completed Trips'].mean()\n",
    "avg_hourly_unique_drivers = uber.groupby('Time (Local)')['Unique Drivers'].mean()\n",
    "\n",
    "#hour with lowest avg completed trips and lowest unique drivers\n",
    "hour_lowest_demand_supply = (avg_hourly_completed_trips + avg_hourly_unique_drivers).idxmin()\n",
    "lowest_demand_supply_value = (avg_hourly_completed_trips + avg_hourly_unique_drivers).min()\n",
    "\n",
    "print(f'We can consider {hour_lowest_demand_supply} AM as the true \"end day\" as the supply of drivers and demand are at natural minimum with a value of {lowest_demand_supply_value:.2f}')"
   ]
  },
  {
   "cell_type": "code",
   "execution_count": 23,
   "id": "c3a4aefc",
   "metadata": {},
   "outputs": [
    {
     "data": {
      "image/png": "[encoded data removed]",
      "text/plain": [
       "<Figure size 1000x600 with 1 Axes>"
      ]
     },
     "metadata": {},
     "output_type": "display_data"
    }
   ],
   "source": [
    "plt.figure(figsize = (10,6))\n",
    "plt.plot(avg_hourly_completed_trips, label = 'Average Completed Trips')\n",
    "plt.plot(avg_hourly_unique_drivers, label = 'Average Unique Drivers')\n",
    "\n",
    "# mark the hour with lowest demand and supply\n",
    "\n",
    "plt.axvline(x = hour_lowest_demand_supply, color = 'red', linestyle = '--', label = 'End Day')\n",
    "plt.xlabel('Hour of the Day')\n",
    "plt.ylabel('Avg Completed Trips / Avg Unique Drivers per Hour')\n",
    "plt.legend()\n",
    "plt.grid(True)\n",
    "plt.xticks(range(24))\n",
    "plt.show()"
   ]
  },
  {
   "cell_type": "markdown",
   "id": "814c1555",
   "metadata": {},
   "source": [
    "## SUMMARY:\n",
    "#### By following these steps, you will be able to:\n",
    "\n",
    "Understand the dataset structure and quality.\n",
    "\n",
    "Clean and prepare data for analysis.\n",
    "\n",
    "Aggregate and summarize data to answer key questions.\n",
    "\n",
    "Use rolling windows to detect trends.\n",
    "\n",
    "Parse and analyze time intervals.\n",
    "\n",
    "Calculate meaningful statistics like percentages and weighted averages.\n",
    "\n",
    "Visualize data to uncover patterns and validate assumptions.\n",
    "\n",
    "Identify critical time periods for supply and demand."
   ]
  }
 ],
 "metadata": {
  "kernelspec": {
   "display_name": "Python 3 (ipykernel)",
   "language": "python",
   "name": "python3"
  },
  "language_info": {
   "codemirror_mode": {
    "name": "ipython",
    "version": 3
   },
   "file_extension": ".py",
   "mimetype": "text/x-python",
   "name": "python",
   "nbconvert_exporter": "python",
   "pygments_lexer": "ipython3",
   "version": "3.11.4"
  }
 },
 "nbformat": 4,
 "nbformat_minor": 5
}
